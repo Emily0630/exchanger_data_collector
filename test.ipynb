{
 "cells": [
  {
   "cell_type": "code",
   "execution_count": 6,
   "metadata": {},
   "outputs": [
    {
     "data": {
      "text/html": [
       "<div>\n",
       "<style scoped>\n",
       "    .dataframe tbody tr th:only-of-type {\n",
       "        vertical-align: middle;\n",
       "    }\n",
       "\n",
       "    .dataframe tbody tr th {\n",
       "        vertical-align: top;\n",
       "    }\n",
       "\n",
       "    .dataframe thead th {\n",
       "        text-align: right;\n",
       "    }\n",
       "</style>\n",
       "<table border=\"1\" class=\"dataframe\">\n",
       "  <thead>\n",
       "    <tr style=\"text-align: right;\">\n",
       "      <th></th>\n",
       "      <th>round</th>\n",
       "      <th>split</th>\n",
       "      <th>replicates</th>\n",
       "      <th>duplicates</th>\n",
       "      <th>distortion</th>\n",
       "      <th>m1</th>\n",
       "      <th>m2</th>\n",
       "      <th>m3</th>\n",
       "    </tr>\n",
       "  </thead>\n",
       "  <tbody>\n",
       "    <tr>\n",
       "      <th>0</th>\n",
       "      <td>-1</td>\n",
       "      <td>NaN</td>\n",
       "      <td>NaN</td>\n",
       "      <td>8.0</td>\n",
       "      <td>1</td>\n",
       "      <td>1.000000</td>\n",
       "      <td>0.745803</td>\n",
       "      <td>0.854396</td>\n",
       "    </tr>\n",
       "    <tr>\n",
       "      <th>1</th>\n",
       "      <td>-1</td>\n",
       "      <td>NaN</td>\n",
       "      <td>NaN</td>\n",
       "      <td>100.0</td>\n",
       "      <td>1</td>\n",
       "      <td>0.997500</td>\n",
       "      <td>0.802817</td>\n",
       "      <td>0.889632</td>\n",
       "    </tr>\n",
       "    <tr>\n",
       "      <th>2</th>\n",
       "      <td>-1</td>\n",
       "      <td>NaN</td>\n",
       "      <td>NaN</td>\n",
       "      <td>0.1</td>\n",
       "      <td>0</td>\n",
       "      <td>0.967742</td>\n",
       "      <td>0.952381</td>\n",
       "      <td>0.960000</td>\n",
       "    </tr>\n",
       "    <tr>\n",
       "      <th>3</th>\n",
       "      <td>-1</td>\n",
       "      <td>NaN</td>\n",
       "      <td>NaN</td>\n",
       "      <td>1.0</td>\n",
       "      <td>0</td>\n",
       "      <td>1.000000</td>\n",
       "      <td>0.919192</td>\n",
       "      <td>0.957895</td>\n",
       "    </tr>\n",
       "    <tr>\n",
       "      <th>4</th>\n",
       "      <td>-1</td>\n",
       "      <td>NaN</td>\n",
       "      <td>NaN</td>\n",
       "      <td>0.1</td>\n",
       "      <td>1</td>\n",
       "      <td>1.000000</td>\n",
       "      <td>0.766667</td>\n",
       "      <td>0.867924</td>\n",
       "    </tr>\n",
       "    <tr>\n",
       "      <th>...</th>\n",
       "      <td>...</td>\n",
       "      <td>...</td>\n",
       "      <td>...</td>\n",
       "      <td>...</td>\n",
       "      <td>...</td>\n",
       "      <td>...</td>\n",
       "      <td>...</td>\n",
       "      <td>...</td>\n",
       "    </tr>\n",
       "    <tr>\n",
       "      <th>1907</th>\n",
       "      <td>-12</td>\n",
       "      <td>-2.0</td>\n",
       "      <td>_19</td>\n",
       "      <td>1.0</td>\n",
       "      <td>1</td>\n",
       "      <td>0.987047</td>\n",
       "      <td>0.782341</td>\n",
       "      <td>0.872852</td>\n",
       "    </tr>\n",
       "    <tr>\n",
       "      <th>1908</th>\n",
       "      <td>-12</td>\n",
       "      <td>-2.0</td>\n",
       "      <td>_19</td>\n",
       "      <td>0.1</td>\n",
       "      <td>1</td>\n",
       "      <td>1.000000</td>\n",
       "      <td>0.783333</td>\n",
       "      <td>0.878505</td>\n",
       "    </tr>\n",
       "    <tr>\n",
       "      <th>1909</th>\n",
       "      <td>-12</td>\n",
       "      <td>-2.0</td>\n",
       "      <td>_19</td>\n",
       "      <td>8.0</td>\n",
       "      <td>0</td>\n",
       "      <td>1.000000</td>\n",
       "      <td>0.937700</td>\n",
       "      <td>0.967848</td>\n",
       "    </tr>\n",
       "    <tr>\n",
       "      <th>1910</th>\n",
       "      <td>-12</td>\n",
       "      <td>-2.0</td>\n",
       "      <td>_19</td>\n",
       "      <td>8.0</td>\n",
       "      <td>1</td>\n",
       "      <td>0.998973</td>\n",
       "      <td>0.777778</td>\n",
       "      <td>0.874607</td>\n",
       "    </tr>\n",
       "    <tr>\n",
       "      <th>1911</th>\n",
       "      <td>-12</td>\n",
       "      <td>-2.0</td>\n",
       "      <td>_19</td>\n",
       "      <td>1.0</td>\n",
       "      <td>0</td>\n",
       "      <td>1.000000</td>\n",
       "      <td>0.919192</td>\n",
       "      <td>0.957895</td>\n",
       "    </tr>\n",
       "  </tbody>\n",
       "</table>\n",
       "<p>1912 rows × 8 columns</p>\n",
       "</div>"
      ],
      "text/plain": [
       "      round  split replicates  duplicates  distortion        m1        m2  \\\n",
       "0        -1    NaN        NaN         8.0           1  1.000000  0.745803   \n",
       "1        -1    NaN        NaN       100.0           1  0.997500  0.802817   \n",
       "2        -1    NaN        NaN         0.1           0  0.967742  0.952381   \n",
       "3        -1    NaN        NaN         1.0           0  1.000000  0.919192   \n",
       "4        -1    NaN        NaN         0.1           1  1.000000  0.766667   \n",
       "...     ...    ...        ...         ...         ...       ...       ...   \n",
       "1907    -12   -2.0        _19         1.0           1  0.987047  0.782341   \n",
       "1908    -12   -2.0        _19         0.1           1  1.000000  0.783333   \n",
       "1909    -12   -2.0        _19         8.0           0  1.000000  0.937700   \n",
       "1910    -12   -2.0        _19         8.0           1  0.998973  0.777778   \n",
       "1911    -12   -2.0        _19         1.0           0  1.000000  0.919192   \n",
       "\n",
       "            m3  \n",
       "0     0.854396  \n",
       "1     0.889632  \n",
       "2     0.960000  \n",
       "3     0.957895  \n",
       "4     0.867924  \n",
       "...        ...  \n",
       "1907  0.872852  \n",
       "1908  0.878505  \n",
       "1909  0.967848  \n",
       "1910  0.874607  \n",
       "1911  0.957895  \n",
       "\n",
       "[1912 rows x 8 columns]"
      ]
     },
     "execution_count": 6,
     "metadata": {},
     "output_type": "execute_result"
    }
   ],
   "source": [
    "import pandas as pd\n",
    "\n",
    "# Create an empty DataFrame with the specified columns\n",
    "df = pd.read_csv(\"data.csv\", index_col=0)\n",
    "\n",
    "# Show the empty DataFrame\n",
    "df\n"
   ]
  },
  {
   "cell_type": "code",
   "execution_count": 11,
   "metadata": {},
   "outputs": [],
   "source": [
    "# Replace 'NaN' string with np.nan for correct filtering\n",
    "import numpy as np\n",
    "df.replace('NaN', np.nan, inplace=True)"
   ]
  },
  {
   "cell_type": "markdown",
   "metadata": {},
   "source": [
    "# use both and PitmanYou prior"
   ]
  },
  {
   "cell_type": "markdown",
   "metadata": {},
   "source": [
    "### L. Dup L. Dist"
   ]
  },
  {
   "cell_type": "code",
   "execution_count": 12,
   "metadata": {},
   "outputs": [
    {
     "data": {
      "text/plain": [
       "array([0.9677419, 1.       , 0.9836066, 0.9836066, 0.9836066, 0.9836066,\n",
       "       0.9836066, 1.       , 0.9836066, 0.9677419, 0.9836066, 0.9677419,\n",
       "       0.9677419, 0.9677419, 0.9836066, 0.9677419, 0.9677419, 0.9677419,\n",
       "       0.9836066, 0.9836066])"
      ]
     },
     "execution_count": 12,
     "metadata": {},
     "output_type": "execute_result"
    }
   ],
   "source": [
    "# Perform the filtering\n",
    "filtered_df = df[\n",
    "    (df['round'] == -1) &\n",
    "    (df['split'].isna() | (df['split'] == -2.0)) &\n",
    "    (df['duplicates'] == 0.1) &\n",
    "    (df['distortion'] == 0)\n",
    "]\n",
    "\n",
    "# Get the values of m1 from the filtered dataframe\n",
    "m1_values = filtered_df['m1'].values\n",
    "m1_values"
   ]
  },
  {
   "cell_type": "code",
   "execution_count": null,
   "metadata": {},
   "outputs": [],
   "source": [
    "\n",
    "# precision\n",
    "# recall\n",
    "# f1Sscore\n"
   ]
  },
  {
   "cell_type": "markdown",
   "metadata": {},
   "source": [
    "### M. Dup L. Dist"
   ]
  },
  {
   "cell_type": "markdown",
   "metadata": {},
   "source": [
    "### H. Dup L. Dist"
   ]
  },
  {
   "cell_type": "markdown",
   "metadata": {},
   "source": [
    "### V.H. Dup L. Dist"
   ]
  },
  {
   "cell_type": "markdown",
   "metadata": {},
   "source": [
    "### L. Dup H. Dist"
   ]
  },
  {
   "cell_type": "markdown",
   "metadata": {},
   "source": [
    "### M. Dup H. Dist"
   ]
  },
  {
   "cell_type": "markdown",
   "metadata": {},
   "source": [
    "### H. Dup H. Dist"
   ]
  },
  {
   "cell_type": "markdown",
   "metadata": {},
   "source": [
    "### V.H. Dup H. Dist"
   ]
  },
  {
   "cell_type": "markdown",
   "metadata": {},
   "source": []
  }
 ],
 "metadata": {
  "kernelspec": {
   "display_name": "Python 3.9.6 64-bit",
   "language": "python",
   "name": "python3"
  },
  "language_info": {
   "codemirror_mode": {
    "name": "ipython",
    "version": 3
   },
   "file_extension": ".py",
   "mimetype": "text/x-python",
   "name": "python",
   "nbconvert_exporter": "python",
   "pygments_lexer": "ipython3",
   "version": "3.9.6"
  },
  "orig_nbformat": 4,
  "vscode": {
   "interpreter": {
    "hash": "31f2aee4e71d21fbe5cf8b01ff0e069b9275f58929596ceb00d14d90e3e16cd6"
   }
  }
 },
 "nbformat": 4,
 "nbformat_minor": 2
}
